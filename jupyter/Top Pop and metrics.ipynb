{
 "cells": [
  {
   "cell_type": "markdown",
   "metadata": {},
   "source": [
    "# Top-pop recommender, metrics"
   ]
  },
  {
   "cell_type": "code",
   "execution_count": 39,
   "metadata": {
    "tags": []
   },
   "outputs": [],
   "source": [
    "import json\n",
    "import random\n",
    "import copy\n",
    "from tqdm.notebook import tqdm\n",
    "from collections import namedtuple\n",
    "\n",
    "import pandas as pd\n",
    "import numpy as np\n",
    "import scipy.stats as ss\n",
    "\n",
    "import matplotlib.pyplot as plt\n",
    "\n",
    "%matplotlib inline\n",
    "\n",
    "DATA_PATH = \"../botify/data/\""
   ]
  },
  {
   "cell_type": "code",
   "execution_count": 40,
   "metadata": {},
   "outputs": [
    {
     "data": {
      "text/html": [
       "<div>\n",
       "<style scoped>\n",
       "    .dataframe tbody tr th:only-of-type {\n",
       "        vertical-align: middle;\n",
       "    }\n",
       "\n",
       "    .dataframe tbody tr th {\n",
       "        vertical-align: top;\n",
       "    }\n",
       "\n",
       "    .dataframe thead th {\n",
       "        text-align: right;\n",
       "    }\n",
       "</style>\n",
       "<table border=\"1\" class=\"dataframe\">\n",
       "  <thead>\n",
       "    <tr style=\"text-align: right;\">\n",
       "      <th></th>\n",
       "      <th>message</th>\n",
       "      <th>timestamp</th>\n",
       "      <th>user</th>\n",
       "      <th>track</th>\n",
       "      <th>time</th>\n",
       "      <th>latency</th>\n",
       "      <th>recommendation</th>\n",
       "      <th>experiments</th>\n",
       "      <th>treatment</th>\n",
       "      <th>rnd</th>\n",
       "    </tr>\n",
       "  </thead>\n",
       "  <tbody>\n",
       "    <tr>\n",
       "      <th>0</th>\n",
       "      <td>next</td>\n",
       "      <td>2022-06-24 18:53:59.211</td>\n",
       "      <td>3255</td>\n",
       "      <td>2659</td>\n",
       "      <td>1.00</td>\n",
       "      <td>0.000395</td>\n",
       "      <td>1725.0</td>\n",
       "      <td>{'AA': 'C', 'RECOMMENDERS': 'T4'}</td>\n",
       "      <td>T4</td>\n",
       "      <td>0.170251</td>\n",
       "    </tr>\n",
       "    <tr>\n",
       "      <th>1</th>\n",
       "      <td>next</td>\n",
       "      <td>2022-06-24 18:53:59.222</td>\n",
       "      <td>3255</td>\n",
       "      <td>1725</td>\n",
       "      <td>0.12</td>\n",
       "      <td>0.000335</td>\n",
       "      <td>1537.0</td>\n",
       "      <td>{'AA': 'C', 'RECOMMENDERS': 'T4'}</td>\n",
       "      <td>T4</td>\n",
       "      <td>0.438007</td>\n",
       "    </tr>\n",
       "    <tr>\n",
       "      <th>2</th>\n",
       "      <td>next</td>\n",
       "      <td>2022-06-24 18:53:59.232</td>\n",
       "      <td>3255</td>\n",
       "      <td>1537</td>\n",
       "      <td>0.99</td>\n",
       "      <td>0.000333</td>\n",
       "      <td>1995.0</td>\n",
       "      <td>{'AA': 'C', 'RECOMMENDERS': 'T4'}</td>\n",
       "      <td>T4</td>\n",
       "      <td>0.931554</td>\n",
       "    </tr>\n",
       "    <tr>\n",
       "      <th>3</th>\n",
       "      <td>next</td>\n",
       "      <td>2022-06-24 18:53:59.243</td>\n",
       "      <td>3255</td>\n",
       "      <td>1995</td>\n",
       "      <td>1.00</td>\n",
       "      <td>0.000437</td>\n",
       "      <td>3590.0</td>\n",
       "      <td>{'AA': 'C', 'RECOMMENDERS': 'T4'}</td>\n",
       "      <td>T4</td>\n",
       "      <td>0.922898</td>\n",
       "    </tr>\n",
       "    <tr>\n",
       "      <th>4</th>\n",
       "      <td>next</td>\n",
       "      <td>2022-06-24 18:53:59.254</td>\n",
       "      <td>3255</td>\n",
       "      <td>3590</td>\n",
       "      <td>0.45</td>\n",
       "      <td>0.000327</td>\n",
       "      <td>8096.0</td>\n",
       "      <td>{'AA': 'C', 'RECOMMENDERS': 'T4'}</td>\n",
       "      <td>T4</td>\n",
       "      <td>0.281687</td>\n",
       "    </tr>\n",
       "  </tbody>\n",
       "</table>\n",
       "</div>"
      ],
      "text/plain": [
       "  message               timestamp  user  track  time   latency  \\\n",
       "0    next 2022-06-24 18:53:59.211  3255   2659  1.00  0.000395   \n",
       "1    next 2022-06-24 18:53:59.222  3255   1725  0.12  0.000335   \n",
       "2    next 2022-06-24 18:53:59.232  3255   1537  0.99  0.000333   \n",
       "3    next 2022-06-24 18:53:59.243  3255   1995  1.00  0.000437   \n",
       "4    next 2022-06-24 18:53:59.254  3255   3590  0.45  0.000327   \n",
       "\n",
       "   recommendation                        experiments treatment       rnd  \n",
       "0          1725.0  {'AA': 'C', 'RECOMMENDERS': 'T4'}        T4  0.170251  \n",
       "1          1537.0  {'AA': 'C', 'RECOMMENDERS': 'T4'}        T4  0.438007  \n",
       "2          1995.0  {'AA': 'C', 'RECOMMENDERS': 'T4'}        T4  0.931554  \n",
       "3          3590.0  {'AA': 'C', 'RECOMMENDERS': 'T4'}        T4  0.922898  \n",
       "4          8096.0  {'AA': 'C', 'RECOMMENDERS': 'T4'}        T4  0.281687  "
      ]
     },
     "execution_count": 40,
     "metadata": {},
     "output_type": "execute_result"
    }
   ],
   "source": [
    "experiment = \"RECOMMENDERS\"\n",
    "recomenders_names = {\n",
    "    \"C\" : \"Random\",\n",
    "    \"T1\": \"Collaborative\",\n",
    "    \"T2\": \"Contextual\",\n",
    "    \"T3\": \"StickyArtist\",\n",
    "    \"T4\": \"TopPop\"\n",
    "}\n",
    "data = pd.read_json(DATA_PATH + \"data_60k.json\", lines=True)\n",
    "data[\"treatment\"] = data[\"experiments\"].map(lambda experiments: experiments[experiment])\n",
    "data[\"rnd\"] = np.random.random(len(data))\n",
    "\n",
    "data.head()"
   ]
  },
  {
   "cell_type": "code",
   "execution_count": 41,
   "metadata": {},
   "outputs": [
    {
     "data": {
      "text/html": [
       "<div>\n",
       "<style scoped>\n",
       "    .dataframe tbody tr th:only-of-type {\n",
       "        vertical-align: middle;\n",
       "    }\n",
       "\n",
       "    .dataframe tbody tr th {\n",
       "        vertical-align: top;\n",
       "    }\n",
       "\n",
       "    .dataframe thead th {\n",
       "        text-align: right;\n",
       "    }\n",
       "</style>\n",
       "<table border=\"1\" class=\"dataframe\">\n",
       "  <thead>\n",
       "    <tr style=\"text-align: right;\">\n",
       "      <th></th>\n",
       "      <th>message</th>\n",
       "      <th>timestamp</th>\n",
       "      <th>user</th>\n",
       "      <th>track</th>\n",
       "      <th>time</th>\n",
       "      <th>latency</th>\n",
       "      <th>recommendation</th>\n",
       "      <th>experiments</th>\n",
       "      <th>rnd</th>\n",
       "    </tr>\n",
       "    <tr>\n",
       "      <th>treatment</th>\n",
       "      <th></th>\n",
       "      <th></th>\n",
       "      <th></th>\n",
       "      <th></th>\n",
       "      <th></th>\n",
       "      <th></th>\n",
       "      <th></th>\n",
       "      <th></th>\n",
       "      <th></th>\n",
       "    </tr>\n",
       "  </thead>\n",
       "  <tbody>\n",
       "    <tr>\n",
       "      <th>C</th>\n",
       "      <td>89252</td>\n",
       "      <td>89252</td>\n",
       "      <td>89252</td>\n",
       "      <td>89252</td>\n",
       "      <td>89252</td>\n",
       "      <td>89252</td>\n",
       "      <td>76665</td>\n",
       "      <td>89252</td>\n",
       "      <td>89252</td>\n",
       "    </tr>\n",
       "    <tr>\n",
       "      <th>T1</th>\n",
       "      <td>102098</td>\n",
       "      <td>102098</td>\n",
       "      <td>102098</td>\n",
       "      <td>102098</td>\n",
       "      <td>102098</td>\n",
       "      <td>102098</td>\n",
       "      <td>89427</td>\n",
       "      <td>102098</td>\n",
       "      <td>102098</td>\n",
       "    </tr>\n",
       "    <tr>\n",
       "      <th>T2</th>\n",
       "      <td>132383</td>\n",
       "      <td>132383</td>\n",
       "      <td>132383</td>\n",
       "      <td>132383</td>\n",
       "      <td>132383</td>\n",
       "      <td>132383</td>\n",
       "      <td>119609</td>\n",
       "      <td>132383</td>\n",
       "      <td>132383</td>\n",
       "    </tr>\n",
       "    <tr>\n",
       "      <th>T3</th>\n",
       "      <td>99441</td>\n",
       "      <td>99441</td>\n",
       "      <td>99441</td>\n",
       "      <td>99441</td>\n",
       "      <td>99441</td>\n",
       "      <td>99441</td>\n",
       "      <td>87261</td>\n",
       "      <td>99441</td>\n",
       "      <td>99441</td>\n",
       "    </tr>\n",
       "    <tr>\n",
       "      <th>T4</th>\n",
       "      <td>103659</td>\n",
       "      <td>103659</td>\n",
       "      <td>103659</td>\n",
       "      <td>103659</td>\n",
       "      <td>103659</td>\n",
       "      <td>103659</td>\n",
       "      <td>91181</td>\n",
       "      <td>103659</td>\n",
       "      <td>103659</td>\n",
       "    </tr>\n",
       "  </tbody>\n",
       "</table>\n",
       "</div>"
      ],
      "text/plain": [
       "           message  timestamp    user   track    time  latency  \\\n",
       "treatment                                                        \n",
       "C            89252      89252   89252   89252   89252    89252   \n",
       "T1          102098     102098  102098  102098  102098   102098   \n",
       "T2          132383     132383  132383  132383  132383   132383   \n",
       "T3           99441      99441   99441   99441   99441    99441   \n",
       "T4          103659     103659  103659  103659  103659   103659   \n",
       "\n",
       "           recommendation  experiments     rnd  \n",
       "treatment                                       \n",
       "C                   76665        89252   89252  \n",
       "T1                  89427       102098  102098  \n",
       "T2                 119609       132383  132383  \n",
       "T3                  87261        99441   99441  \n",
       "T4                  91181       103659  103659  "
      ]
     },
     "execution_count": 41,
     "metadata": {},
     "output_type": "execute_result"
    }
   ],
   "source": [
    "data.groupby(\"treatment\").count()"
   ]
  },
  {
   "cell_type": "code",
   "execution_count": 42,
   "metadata": {},
   "outputs": [],
   "source": [
    "dataframes_dict = dict()\n",
    "recomenders = data[\"treatment\"].unique()\n",
    "for recomender in recomenders:\n",
    "    dataframes_dict[recomender] = data.loc[data[\"treatment\"] == recomender].copy()"
   ]
  },
  {
   "cell_type": "markdown",
   "metadata": {},
   "source": [
    "## Compute track popularity"
   ]
  },
  {
   "cell_type": "code",
   "execution_count": 43,
   "metadata": {
    "tags": []
   },
   "outputs": [
    {
     "name": "stdout",
     "output_type": "stream",
     "text": [
      "T4\n",
      "   track    time\n",
      "0    176  230.15\n",
      "1    171  218.93\n",
      "2    424  208.89\n",
      "3    177  208.45\n",
      "4   7585  207.77\n",
      "C\n",
      "   track   time\n",
      "0    177  16.80\n",
      "1    171  16.07\n",
      "2    442  16.01\n",
      "3    443  16.00\n",
      "4   4205  16.00\n",
      "T1\n",
      "   track   time\n",
      "0    246  52.85\n",
      "1    443  52.78\n",
      "2    171  47.41\n",
      "3    177  46.21\n",
      "4    424  42.99\n",
      "T3\n",
      "   track   time\n",
      "0   6808  20.62\n",
      "1   2795  20.50\n",
      "2   1829  18.13\n",
      "3   4205  17.00\n",
      "4   4267  15.63\n",
      "T2\n",
      "   track    time\n",
      "0    176  345.84\n",
      "1    246  343.30\n",
      "2   7585  283.51\n",
      "3    175  261.14\n",
      "4   1998  259.08\n"
     ]
    }
   ],
   "source": [
    "track_popularity_dict = dict()\n",
    "for recomender in recomenders:\n",
    "    df = dataframes_dict[recomender] \n",
    "    track_popularity = (\n",
    "        df[df[\"rnd\"] > 0.5]\n",
    "        .groupby(\"track\")[\"time\"]\n",
    "        .sum()\n",
    "        .to_frame()\n",
    "        .sort_values(\"time\", ascending=False)\n",
    "        .reset_index()\n",
    "    )\n",
    "    track_popularity_dict[recomender] = track_popularity.copy()\n",
    "    print(recomender, track_popularity_dict[recomender].head(), sep='\\n')"
   ]
  },
  {
   "cell_type": "code",
   "execution_count": 44,
   "metadata": {},
   "outputs": [
    {
     "data": {
      "image/png": "[encoded data removed]",
      "text/plain": [
       "<Figure size 1080x504 with 1 Axes>"
      ]
     },
     "metadata": {
      "needs_background": "light"
     },
     "output_type": "display_data"
    }
   ],
   "source": [
    "fig, ax = plt.subplots(figsize=(15, 7))\n",
    "for recomender in recomenders:\n",
    "    ax.plot(track_popularity_dict[recomender].index.values, \n",
    "            track_popularity_dict[recomender][\"time\"].values, \n",
    "            label=recomenders_names[recomender])\n",
    "ax.set_xlim(left=-100, right=5000)\n",
    "ax.set_ylim(bottom=-10, top=100)\n",
    "ax.set_title(\"Distribution of tracks popularity\")\n",
    "ax.set_xlabel(\"Track id\")\n",
    "ax.set_ylabel(\"Time of listening\")\n",
    "ax.grid(True)\n",
    "ax.legend();"
   ]
  },
  {
   "cell_type": "markdown",
   "metadata": {},
   "source": [
    "## Compute offline metrics"
   ]
  },
  {
   "cell_type": "code",
   "execution_count": 45,
   "metadata": {},
   "outputs": [],
   "source": [
    "metrics_dict = dict()\n",
    "tracks_dict = dict()\n",
    "for recomender in recomenders:\n",
    "    df = dataframes_dict[recomender]\n",
    "    tracks_dict[recomender] = track_popularity_dict[recomender][\"track\"].tolist()\n",
    "    metrics_dict[recomender] = df[(df[\"rnd\"] <= 0.5) & (df[\"time\"] >= 0.75)].copy()"
   ]
  },
  {
   "cell_type": "code",
   "execution_count": 46,
   "metadata": {
    "tags": []
   },
   "outputs": [],
   "source": [
    "def precision_at(recommendations, track, k):\n",
    "    return 1.0 / k * int(track in recommendations[:k])\n",
    "\n",
    "\n",
    "def shuffled_precision_at(recommendations, track, k):\n",
    "    shuffled = list(recommendations)\n",
    "    random.shuffle(shuffled)\n",
    "    return precision_at(shuffled, track, k)\n",
    "\n",
    "\n",
    "# TODO 1: Implement MRR here:\n",
    "def mrr(recommendations, track):\n",
    "    return 1.0 / (1.0 + recommendations.index(track)) if track in recommendations else 0.0\n",
    "\n",
    "def shuffled_mrr(recommendations, track):\n",
    "    shuffled = list(recommendations)\n",
    "    random.shuffle(shuffled)\n",
    "    return mrr(shuffled, track)"
   ]
  },
  {
   "cell_type": "markdown",
   "metadata": {},
   "source": [
    "### 1. Precision@k"
   ]
  },
  {
   "cell_type": "code",
   "execution_count": 47,
   "metadata": {
    "tags": []
   },
   "outputs": [
    {
     "data": {
      "application/vnd.jupyter.widget-view+json": {
       "model_id": "9bb569983fe449a682a6fffd35dbbce7",
       "version_major": 2,
       "version_minor": 0
      },
      "text/plain": [
       "  0%|          | 0/5 [00:00<?, ?it/s]"
      ]
     },
     "metadata": {},
     "output_type": "display_data"
    }
   ],
   "source": [
    "for recomender in tqdm(recomenders):\n",
    "    p_10_udf = lambda track: precision_at(tracks_dict[recomender][:10], track, 10)\n",
    "    sh_10_p_10_udf = lambda track: shuffled_precision_at(tracks_dict[recomender][:10], track, 10)\n",
    "    sh_100_p_10_udf = lambda track: shuffled_precision_at(tracks_dict[recomender][:100], track, 10)\n",
    "    sh_1000_p_10_udf = lambda track: shuffled_precision_at(tracks_dict[recomender][:1000], track, 10)\n",
    "    \n",
    "    metrics_dict[recomender][\"p_10\"] = metrics_dict[recomender][\"track\"].map(p_10_udf)\n",
    "    metrics_dict[recomender][\"sh_10_p_10\"] = metrics_dict[recomender][\"track\"].map(sh_10_p_10_udf)\n",
    "    metrics_dict[recomender][\"sh_100_p_10\"] = metrics_dict[recomender][\"track\"].map(sh_100_p_10_udf)\n",
    "    metrics_dict[recomender][\"sh_1000_p_10\"] = metrics_dict[recomender][\"track\"].map(sh_1000_p_10_udf)"
   ]
  },
  {
   "cell_type": "code",
   "execution_count": 48,
   "metadata": {},
   "outputs": [
    {
     "name": "stdout",
     "output_type": "stream",
     "text": [
      "TopPop\n",
      "               p_10    sh_10_p_10   sh_100_p_10  sh_1000_p_10\n",
      "count  17717.000000  17717.000000  17717.000000  17717.000000\n",
      "mean       0.009849      0.009849      0.006790      0.000751\n",
      "std        0.029799      0.029799      0.025158      0.008632\n",
      "min        0.000000      0.000000      0.000000      0.000000\n",
      "25%        0.000000      0.000000      0.000000      0.000000\n",
      "50%        0.000000      0.000000      0.000000      0.000000\n",
      "75%        0.000000      0.000000      0.000000      0.000000\n",
      "max        0.100000      0.100000      0.100000      0.100000\n",
      "Random\n",
      "               p_10    sh_10_p_10   sh_100_p_10  sh_1000_p_10\n",
      "count  10461.000000  10461.000000  10461.000000  10461.000000\n",
      "mean       0.001090      0.001090      0.000401      0.000191\n",
      "std        0.010383      0.010383      0.006324      0.004369\n",
      "min        0.000000      0.000000      0.000000      0.000000\n",
      "25%        0.000000      0.000000      0.000000      0.000000\n",
      "50%        0.000000      0.000000      0.000000      0.000000\n",
      "75%        0.000000      0.000000      0.000000      0.000000\n",
      "max        0.100000      0.100000      0.100000      0.100000\n",
      "Collaborative\n",
      "               p_10    sh_10_p_10   sh_100_p_10  sh_1000_p_10\n",
      "count  16438.000000  16438.000000  16438.000000  16438.000000\n",
      "mean       0.002482      0.002482      0.001454      0.000456\n",
      "std        0.015558      0.015558      0.011970      0.006739\n",
      "min        0.000000      0.000000      0.000000      0.000000\n",
      "25%        0.000000      0.000000      0.000000      0.000000\n",
      "50%        0.000000      0.000000      0.000000      0.000000\n",
      "75%        0.000000      0.000000      0.000000      0.000000\n",
      "max        0.100000      0.100000      0.100000      0.100000\n",
      "StickyArtist\n",
      "               p_10    sh_10_p_10   sh_100_p_10  sh_1000_p_10\n",
      "count  10556.000000  10556.000000  10556.000000  10556.000000\n",
      "mean       0.000919      0.000919      0.000673      0.000227\n",
      "std        0.009542      0.009542      0.008174      0.004763\n",
      "min        0.000000      0.000000      0.000000      0.000000\n",
      "25%        0.000000      0.000000      0.000000      0.000000\n",
      "50%        0.000000      0.000000      0.000000      0.000000\n",
      "75%        0.000000      0.000000      0.000000      0.000000\n",
      "max        0.100000      0.100000      0.100000      0.100000\n",
      "Contextual\n",
      "               p_10    sh_10_p_10   sh_100_p_10  sh_1000_p_10\n",
      "count  30882.000000  30882.000000  30882.000000  30882.000000\n",
      "mean       0.007454      0.007454      0.004284      0.000887\n",
      "std        0.026265      0.026265      0.020250      0.009378\n",
      "min        0.000000      0.000000      0.000000      0.000000\n",
      "25%        0.000000      0.000000      0.000000      0.000000\n",
      "50%        0.000000      0.000000      0.000000      0.000000\n",
      "75%        0.000000      0.000000      0.000000      0.000000\n",
      "max        0.100000      0.100000      0.100000      0.100000\n"
     ]
    }
   ],
   "source": [
    "for recomender in recomenders:\n",
    "    print(recomenders_names[recomender], \n",
    "          metrics_dict[recomender][[\"p_10\", \"sh_10_p_10\", \"sh_100_p_10\", \"sh_1000_p_10\"]].describe(), \n",
    "          sep='\\n')"
   ]
  },
  {
   "cell_type": "markdown",
   "metadata": {},
   "source": [
    "### 2. MRR"
   ]
  },
  {
   "cell_type": "code",
   "execution_count": 49,
   "metadata": {},
   "outputs": [
    {
     "data": {
      "application/vnd.jupyter.widget-view+json": {
       "model_id": "24be51f40c154c4ab59b3216e0655966",
       "version_major": 2,
       "version_minor": 0
      },
      "text/plain": [
       "  0%|          | 0/5 [00:00<?, ?it/s]"
      ]
     },
     "metadata": {},
     "output_type": "display_data"
    }
   ],
   "source": [
    "for recomender in tqdm(recomenders):\n",
    "    # TODO 2: Apply MRR here:\n",
    "    mrr_10_udf = lambda track: mrr(tracks_dict[recomender][:10], track)\n",
    "    sh_10_mrr_10_udf = lambda track: shuffled_mrr(tracks_dict[recomender][:10], track)\n",
    "    sh_100_mrr_10_udf = lambda track: shuffled_mrr(tracks_dict[recomender][:100], track)\n",
    "    sh_1000_mrr_10_udf = lambda track: shuffled_mrr(tracks_dict[recomender][:1000], track)\n",
    "    \n",
    "    metrics_dict[recomender][\"mrr_10\"] = metrics_dict[recomender][\"track\"].map(mrr_10_udf)\n",
    "    metrics_dict[recomender][\"sh_10_mrr_10\"] = metrics_dict[recomender][\"track\"].map(sh_10_mrr_10_udf)\n",
    "    metrics_dict[recomender][\"sh_100_mrr_10\"] = metrics_dict[recomender][\"track\"].map(sh_100_mrr_10_udf)\n",
    "    metrics_dict[recomender][\"sh_1000_mrr_10\"] = metrics_dict[recomender][\"track\"].map(sh_1000_mrr_10_udf)"
   ]
  },
  {
   "cell_type": "code",
   "execution_count": 50,
   "metadata": {},
   "outputs": [
    {
     "name": "stdout",
     "output_type": "stream",
     "text": [
      "TopPop\n",
      "             mrr_10  sh_10_mrr_10  sh_100_mrr_10  sh_1000_mrr_10\n",
      "count  17717.000000  17717.000000   17717.000000    17717.000000\n",
      "mean       0.030027      0.028526       0.035206        0.005861\n",
      "std        0.124129      0.118574       0.101616        0.036444\n",
      "min        0.000000      0.000000       0.000000        0.000000\n",
      "25%        0.000000      0.000000       0.000000        0.000000\n",
      "50%        0.000000      0.000000       0.013514        0.001493\n",
      "75%        0.000000      0.000000       0.027027        0.002985\n",
      "max        1.000000      1.000000       1.000000        1.000000\n",
      "Random\n",
      "             mrr_10  sh_10_mrr_10  sh_100_mrr_10  sh_1000_mrr_10\n",
      "count  10461.000000  10461.000000   10461.000000    10461.000000\n",
      "mean       0.003570      0.002658       0.002279        0.001283\n",
      "std        0.045793      0.033469       0.026557        0.017412\n",
      "min        0.000000      0.000000       0.000000        0.000000\n",
      "25%        0.000000      0.000000       0.000000        0.000000\n",
      "50%        0.000000      0.000000       0.000000        0.000000\n",
      "75%        0.000000      0.000000       0.000000        0.000000\n",
      "max        1.000000      1.000000       1.000000        1.000000\n",
      "Collaborative\n",
      "             mrr_10  sh_10_mrr_10  sh_100_mrr_10  sh_1000_mrr_10\n",
      "count  16438.000000  16438.000000   16438.000000    16438.000000\n",
      "mean       0.007407      0.007753       0.007319        0.003396\n",
      "std        0.063553      0.064632       0.048503        0.023870\n",
      "min        0.000000      0.000000       0.000000        0.000000\n",
      "25%        0.000000      0.000000       0.000000        0.000000\n",
      "50%        0.000000      0.000000       0.000000        0.000000\n",
      "75%        0.000000      0.000000       0.000000        0.001880\n",
      "max        1.000000      1.000000       1.000000        1.000000\n",
      "StickyArtist\n",
      "             mrr_10  sh_10_mrr_10  sh_100_mrr_10  sh_1000_mrr_10\n",
      "count  10556.000000  10556.000000   10556.000000    10556.000000\n",
      "mean       0.002718      0.002376       0.003253        0.001723\n",
      "std        0.037052      0.033639       0.031422        0.021129\n",
      "min        0.000000      0.000000       0.000000        0.000000\n",
      "25%        0.000000      0.000000       0.000000        0.000000\n",
      "50%        0.000000      0.000000       0.000000        0.000000\n",
      "75%        0.000000      0.000000       0.000000        0.000000\n",
      "max        1.000000      1.000000       1.000000        1.000000\n",
      "Contextual\n",
      "             mrr_10  sh_10_mrr_10  sh_100_mrr_10  sh_1000_mrr_10\n",
      "count  30882.000000  30882.000000   30882.000000    30882.000000\n",
      "mean       0.025113      0.021743       0.022177        0.006303\n",
      "std        0.119383      0.104453       0.080337        0.035675\n",
      "min        0.000000      0.000000       0.000000        0.000000\n",
      "25%        0.000000      0.000000       0.000000        0.001134\n",
      "50%        0.000000      0.000000       0.000000        0.001715\n",
      "75%        0.000000      0.000000       0.016949        0.003401\n",
      "max        1.000000      1.000000       1.000000        1.000000\n"
     ]
    }
   ],
   "source": [
    "for recomender in recomenders:\n",
    "    print(recomenders_names[recomender], \n",
    "          metrics_dict[recomender][[\"mrr_10\", \"sh_10_mrr_10\", \"sh_100_mrr_10\", \"sh_1000_mrr_10\"]].describe(),\n",
    "          sep='\\n')"
   ]
  },
  {
   "cell_type": "markdown",
   "metadata": {},
   "source": [
    "## Export data for prod"
   ]
  },
  {
   "cell_type": "code",
   "execution_count": 51,
   "metadata": {},
   "outputs": [
    {
     "name": "stdout",
     "output_type": "stream",
     "text": [
      "TopPop\n",
      "4002\n",
      "Random\n",
      "28231\n",
      "Collaborative\n",
      "9664\n",
      "StickyArtist\n",
      "18190\n",
      "Contextual\n",
      "4421\n"
     ]
    }
   ],
   "source": [
    "for recomender in recomenders:\n",
    "    print(recomenders_names[recomender],\n",
    "         len(tracks_dict[recomender]),\n",
    "         sep = '\\n')"
   ]
  },
  {
   "cell_type": "code",
   "execution_count": 52,
   "metadata": {},
   "outputs": [],
   "source": [
    "for recomender in recomenders:\n",
    "    with open(DATA_PATH + f\"top_tracks_{recomenders_names[recomender]}.json\", \"w\") as top_tracks_file:\n",
    "        json.dump(track_popularity_dict[recomender][\"track\"].tolist(), top_tracks_file)"
   ]
  },
  {
   "cell_type": "code",
   "execution_count": null,
   "metadata": {},
   "outputs": [],
   "source": []
  }
 ],
 "metadata": {
  "kernelspec": {
   "display_name": "Python 3 (ipykernel)",
   "language": "python",
   "name": "python3"
  },
  "language_info": {
   "codemirror_mode": {
    "name": "ipython",
    "version": 3
   },
   "file_extension": ".py",
   "mimetype": "text/x-python",
   "name": "python",
   "nbconvert_exporter": "python",
   "pygments_lexer": "ipython3",
   "version": "3.7.13"
  }
 },
 "nbformat": 4,
 "nbformat_minor": 4
}
