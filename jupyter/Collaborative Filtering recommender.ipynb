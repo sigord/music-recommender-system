{
 "cells": [
  {
   "cell_type": "markdown",
   "metadata": {},
   "source": [
    "# Collaborative Filtering recommender"
   ]
  },
  {
   "cell_type": "code",
   "execution_count": 3,
   "metadata": {},
   "outputs": [],
   "source": [
    "import pandas as pd\n",
    "import numpy as np\n",
    "import scipy.stats as ss\n",
    "\n",
    "import lightfm\n",
    "import lightfm.data as ld\n",
    "import lightfm.evaluation as lv\n",
    "\n",
    "import tqdm\n",
    "import json\n",
    "import optuna\n",
    "\n",
    "import tensorboardX as tb\n",
    "\n",
    "import matplotlib.pyplot as pl\n",
    "import seaborn as sns\n",
    "\n",
    "np.random.seed(31337)"
   ]
  },
  {
   "cell_type": "code",
   "execution_count": 25,
   "metadata": {},
   "outputs": [],
   "source": [
    "DATA_DIR = \"../botify/data/large/\"\n",
    "DATA_PATH = \"../botify/data/\""
   ]
  },
  {
   "cell_type": "code",
   "execution_count": 5,
   "metadata": {},
   "outputs": [],
   "source": [
    "# https://drive.google.com/drive/folders/1Nz5ZD3HKyCfncdF368Tym5ktjyFCd5Li?usp=sharing\n",
    "data = pd.read_json(DATA_DIR + \"data.json\", lines=True).drop_duplicates(subset=[\"user\", \"track\"])"
   ]
  },
  {
   "cell_type": "code",
   "execution_count": 6,
   "metadata": {},
   "outputs": [],
   "source": [
    "positives = data[data[\"time\"] > 0.8].copy()\n",
    "positives[\"test\"] = np.random.random(len(positives)) >= 0.7"
   ]
  },
  {
   "cell_type": "code",
   "execution_count": 7,
   "metadata": {},
   "outputs": [],
   "source": [
    "user_counts = positives[~positives[\"test\"]].groupby(\"user\").size()\n",
    "users = set(user_counts[user_counts >= 5].index.values)"
   ]
  },
  {
   "cell_type": "code",
   "execution_count": 8,
   "metadata": {},
   "outputs": [],
   "source": [
    "track_counts = positives[~positives[\"test\"]].groupby(\"track\").size()\n",
    "tracks = set(track_counts[track_counts >= 5].index.values)"
   ]
  },
  {
   "cell_type": "markdown",
   "metadata": {},
   "source": [
    "## Train LightFM"
   ]
  },
  {
   "cell_type": "code",
   "execution_count": 9,
   "metadata": {},
   "outputs": [
    {
     "data": {
      "text/plain": [
       "(47057, 16492)"
      ]
     },
     "execution_count": 9,
     "metadata": {},
     "output_type": "execute_result"
    }
   ],
   "source": [
    "train_data = positives[~positives[\"test\"] & positives[\"user\"].isin(users) & positives[\"track\"].isin(tracks)]\n",
    "test_data = positives[positives[\"test\"] & positives[\"user\"].isin(users) & positives[\"track\"].isin(tracks)]\n",
    "\n",
    "len(train_data), len(test_data)"
   ]
  },
  {
   "cell_type": "code",
   "execution_count": 10,
   "metadata": {},
   "outputs": [],
   "source": [
    "dataset = ld.Dataset()\n",
    "dataset.fit(users, tracks)"
   ]
  },
  {
   "cell_type": "code",
   "execution_count": 11,
   "metadata": {},
   "outputs": [],
   "source": [
    "train_interactions, _ = dataset.build_interactions(train_data[[\"user\", \"track\"]].itertuples(index=False, name=None))\n",
    "test_interactions, _ = dataset.build_interactions(test_data[[\"user\", \"track\"]].itertuples(index=False, name=None))"
   ]
  },
  {
   "cell_type": "code",
   "execution_count": 12,
   "metadata": {},
   "outputs": [],
   "source": [
    "def fit_model(epochs=1, at=10, loss=\"warp\", no_components=30, learning_rate=0.01, max_sampled=10, user_alpha=0.0, item_alpha=0.0, threads=30, verbose=False):\n",
    "    model = lightfm.LightFM(\n",
    "        no_components=no_components,\n",
    "        loss=loss,\n",
    "        learning_rate=learning_rate,\n",
    "        max_sampled=max_sampled,\n",
    "        user_alpha=user_alpha,\n",
    "        item_alpha=item_alpha,\n",
    "    )\n",
    "\n",
    "    precisions_at = []\n",
    "    \n",
    "    for epoch in range(epochs):\n",
    "        model = model.fit_partial(train_interactions, num_threads=threads)\n",
    "        precision_at = lv.precision_at_k(model, test_interactions, train_interactions=train_interactions, k=at, num_threads=threads)\n",
    "        if verbose:\n",
    "            print(f\"{epoch}:\\t{np.mean(precision_at)} +/- {ss.sem(precision_at) * 1.96}\")\n",
    "        precisions_at.append(np.mean(precision_at))\n",
    "        \n",
    "    return model, precisions_at\n",
    "\n",
    "\n",
    "def objective(trial):\n",
    "    loss = trial.suggest_categorical(\"loss\", [\"warp\", \"bpr\"])\n",
    "    no_components = trial.suggest_categorical(\"no_components\", [10, 30, 50])\n",
    "    learning_rate = trial.suggest_categorical(\"learning_rate\", [0.0001, 0.001, 0.01])\n",
    "    max_sampled = trial.suggest_categorical(\"max_sampled\", [10, 20, 50, 100])\n",
    "    user_alpha = trial.suggest_categorical(\"user_alpha\", [0.0, 0.0001])\n",
    "    item_alpha = trial.suggest_categorical(\"item_alpha\", [0.0, 0.0001])\n",
    "    \n",
    "    model, precisions_at = fit_model(\n",
    "        epochs=5, \n",
    "        at=10,\n",
    "        loss=loss,\n",
    "        no_components=no_components, \n",
    "        learning_rate=learning_rate, \n",
    "        max_sampled=max_sampled, \n",
    "        user_alpha=user_alpha, \n",
    "        item_alpha=item_alpha,\n",
    "    )\n",
    "    \n",
    "    return precisions_at[-1]"
   ]
  },
  {
   "cell_type": "code",
   "execution_count": 13,
   "metadata": {},
   "outputs": [
    {
     "name": "stderr",
     "output_type": "stream",
     "text": [
      "\u001b[32m[I 2022-08-04 17:33:47,695]\u001b[0m A new study created in memory with name: no-name-34f763a8-8327-40ea-9431-6590c710c35d\u001b[0m\n",
      "\u001b[32m[I 2022-08-04 17:34:10,757]\u001b[0m Trial 0 finished with value: 0.007065669167786837 and parameters: {'loss': 'warp', 'no_components': 30, 'learning_rate': 0.01, 'max_sampled': 10, 'user_alpha': 0.0, 'item_alpha': 0.0}. Best is trial 0 with value: 0.007065669167786837.\u001b[0m\n",
      "\u001b[32m[I 2022-08-04 17:34:24,967]\u001b[0m Trial 1 finished with value: 0.0009559434838593006 and parameters: {'loss': 'bpr', 'no_components': 10, 'learning_rate': 0.01, 'max_sampled': 50, 'user_alpha': 0.0, 'item_alpha': 0.0001}. Best is trial 0 with value: 0.007065669167786837.\u001b[0m\n",
      "\u001b[32m[I 2022-08-04 17:34:53,920]\u001b[0m Trial 2 finished with value: 0.008520365692675114 and parameters: {'loss': 'warp', 'no_components': 50, 'learning_rate': 0.01, 'max_sampled': 50, 'user_alpha': 0.0, 'item_alpha': 0.0}. Best is trial 2 with value: 0.008520365692675114.\u001b[0m\n",
      "\u001b[32m[I 2022-08-04 17:35:24,135]\u001b[0m Trial 3 finished with value: 0.0006511498941108584 and parameters: {'loss': 'bpr', 'no_components': 50, 'learning_rate': 0.01, 'max_sampled': 10, 'user_alpha': 0.0, 'item_alpha': 0.0}. Best is trial 2 with value: 0.008520365692675114.\u001b[0m\n",
      "\u001b[32m[I 2022-08-04 17:35:57,834]\u001b[0m Trial 4 finished with value: 0.0009559435420669615 and parameters: {'loss': 'bpr', 'no_components': 50, 'learning_rate': 0.001, 'max_sampled': 10, 'user_alpha': 0.0, 'item_alpha': 0.0001}. Best is trial 2 with value: 0.008520365692675114.\u001b[0m\n",
      "\u001b[32m[I 2022-08-04 17:36:20,924]\u001b[0m Trial 5 finished with value: 0.0010529232677072287 and parameters: {'loss': 'bpr', 'no_components': 30, 'learning_rate': 0.01, 'max_sampled': 10, 'user_alpha': 0.0, 'item_alpha': 0.0001}. Best is trial 2 with value: 0.008520365692675114.\u001b[0m\n",
      "\u001b[32m[I 2022-08-04 17:36:35,335]\u001b[0m Trial 6 finished with value: 0.0068024382926523685 and parameters: {'loss': 'warp', 'no_components': 10, 'learning_rate': 0.01, 'max_sampled': 100, 'user_alpha': 0.0001, 'item_alpha': 0.0}. Best is trial 2 with value: 0.008520365692675114.\u001b[0m\n",
      "\u001b[32m[I 2022-08-04 17:37:05,593]\u001b[0m Trial 7 finished with value: 0.007370462641119957 and parameters: {'loss': 'warp', 'no_components': 50, 'learning_rate': 0.01, 'max_sampled': 100, 'user_alpha': 0.0, 'item_alpha': 0.0001}. Best is trial 2 with value: 0.008520365692675114.\u001b[0m\n",
      "\u001b[32m[I 2022-08-04 17:37:35,929]\u001b[0m Trial 8 finished with value: 0.0007619839161634445 and parameters: {'loss': 'bpr', 'no_components': 50, 'learning_rate': 0.0001, 'max_sampled': 100, 'user_alpha': 0.0001, 'item_alpha': 0.0}. Best is trial 2 with value: 0.008520365692675114.\u001b[0m\n",
      "\u001b[32m[I 2022-08-04 17:37:51,768]\u001b[0m Trial 9 finished with value: 0.0068994187749922276 and parameters: {'loss': 'warp', 'no_components': 10, 'learning_rate': 0.01, 'max_sampled': 10, 'user_alpha': 0.0, 'item_alpha': 0.0001}. Best is trial 2 with value: 0.008520365692675114.\u001b[0m\n",
      "\u001b[32m[I 2022-08-04 17:38:25,319]\u001b[0m Trial 10 finished with value: 0.006677750498056412 and parameters: {'loss': 'warp', 'no_components': 50, 'learning_rate': 0.0001, 'max_sampled': 20, 'user_alpha': 0.0001, 'item_alpha': 0.0}. Best is trial 2 with value: 0.008520365692675114.\u001b[0m\n",
      "\u001b[32m[I 2022-08-04 17:38:55,861]\u001b[0m Trial 11 finished with value: 0.006760876160115004 and parameters: {'loss': 'warp', 'no_components': 50, 'learning_rate': 0.001, 'max_sampled': 50, 'user_alpha': 0.0, 'item_alpha': 0.0001}. Best is trial 2 with value: 0.008520365692675114.\u001b[0m\n",
      "\u001b[32m[I 2022-08-04 17:39:25,191]\u001b[0m Trial 12 finished with value: 0.007702965289354324 and parameters: {'loss': 'warp', 'no_components': 50, 'learning_rate': 0.01, 'max_sampled': 100, 'user_alpha': 0.0, 'item_alpha': 0.0001}. Best is trial 2 with value: 0.008520365692675114.\u001b[0m\n",
      "\u001b[32m[I 2022-08-04 17:39:54,980]\u001b[0m Trial 13 finished with value: 0.0082017183303833 and parameters: {'loss': 'warp', 'no_components': 50, 'learning_rate': 0.01, 'max_sampled': 50, 'user_alpha': 0.0, 'item_alpha': 0.0}. Best is trial 2 with value: 0.008520365692675114.\u001b[0m\n",
      "\u001b[32m[I 2022-08-04 17:40:22,840]\u001b[0m Trial 14 finished with value: 0.0066084787249565125 and parameters: {'loss': 'warp', 'no_components': 50, 'learning_rate': 0.001, 'max_sampled': 50, 'user_alpha': 0.0, 'item_alpha': 0.0}. Best is trial 2 with value: 0.008520365692675114.\u001b[0m\n",
      "\u001b[32m[I 2022-08-04 17:40:43,461]\u001b[0m Trial 15 finished with value: 0.006553062237799168 and parameters: {'loss': 'warp', 'no_components': 30, 'learning_rate': 0.0001, 'max_sampled': 50, 'user_alpha': 0.0001, 'item_alpha': 0.0}. Best is trial 2 with value: 0.008520365692675114.\u001b[0m\n",
      "\u001b[32m[I 2022-08-04 17:41:11,952]\u001b[0m Trial 16 finished with value: 0.007924633100628853 and parameters: {'loss': 'warp', 'no_components': 50, 'learning_rate': 0.01, 'max_sampled': 50, 'user_alpha': 0.0, 'item_alpha': 0.0}. Best is trial 2 with value: 0.008520365692675114.\u001b[0m\n",
      "\u001b[32m[I 2022-08-04 17:41:40,027]\u001b[0m Trial 17 finished with value: 0.007439733948558569 and parameters: {'loss': 'warp', 'no_components': 50, 'learning_rate': 0.01, 'max_sampled': 20, 'user_alpha': 0.0, 'item_alpha': 0.0}. Best is trial 2 with value: 0.008520365692675114.\u001b[0m\n",
      "\u001b[32m[I 2022-08-04 17:42:01,119]\u001b[0m Trial 18 finished with value: 0.006788583938032389 and parameters: {'loss': 'warp', 'no_components': 30, 'learning_rate': 0.001, 'max_sampled': 50, 'user_alpha': 0.0001, 'item_alpha': 0.0}. Best is trial 2 with value: 0.008520365692675114.\u001b[0m\n",
      "\u001b[32m[I 2022-08-04 17:42:14,539]\u001b[0m Trial 19 finished with value: 0.002258243504911661 and parameters: {'loss': 'warp', 'no_components': 10, 'learning_rate': 0.0001, 'max_sampled': 50, 'user_alpha': 0.0, 'item_alpha': 0.0}. Best is trial 2 with value: 0.008520365692675114.\u001b[0m\n",
      "\u001b[32m[I 2022-08-04 17:42:43,459]\u001b[0m Trial 20 finished with value: 0.00822942703962326 and parameters: {'loss': 'warp', 'no_components': 50, 'learning_rate': 0.01, 'max_sampled': 50, 'user_alpha': 0.0, 'item_alpha': 0.0}. Best is trial 2 with value: 0.008520365692675114.\u001b[0m\n",
      "\u001b[32m[I 2022-08-04 17:43:11,590]\u001b[0m Trial 21 finished with value: 0.007786090951412916 and parameters: {'loss': 'warp', 'no_components': 50, 'learning_rate': 0.01, 'max_sampled': 50, 'user_alpha': 0.0, 'item_alpha': 0.0}. Best is trial 2 with value: 0.008520365692675114.\u001b[0m\n",
      "\u001b[32m[I 2022-08-04 17:43:39,040]\u001b[0m Trial 22 finished with value: 0.008284843526780605 and parameters: {'loss': 'warp', 'no_components': 50, 'learning_rate': 0.01, 'max_sampled': 50, 'user_alpha': 0.0, 'item_alpha': 0.0}. Best is trial 2 with value: 0.008520365692675114.\u001b[0m\n",
      "\u001b[32m[I 2022-08-04 17:44:07,256]\u001b[0m Trial 23 finished with value: 0.007453588303178549 and parameters: {'loss': 'warp', 'no_components': 50, 'learning_rate': 0.01, 'max_sampled': 50, 'user_alpha': 0.0, 'item_alpha': 0.0}. Best is trial 2 with value: 0.008520365692675114.\u001b[0m\n",
      "\u001b[32m[I 2022-08-04 17:44:34,465]\u001b[0m Trial 24 finished with value: 0.007910778746008873 and parameters: {'loss': 'warp', 'no_components': 50, 'learning_rate': 0.01, 'max_sampled': 20, 'user_alpha': 0.0, 'item_alpha': 0.0}. Best is trial 2 with value: 0.008520365692675114.\u001b[0m\n",
      "\u001b[32m[I 2022-08-04 17:45:02,267]\u001b[0m Trial 25 finished with value: 0.008312552236020565 and parameters: {'loss': 'warp', 'no_components': 50, 'learning_rate': 0.01, 'max_sampled': 50, 'user_alpha': 0.0, 'item_alpha': 0.0}. Best is trial 2 with value: 0.008520365692675114.\u001b[0m\n",
      "\u001b[32m[I 2022-08-04 17:45:29,776]\u001b[0m Trial 26 finished with value: 0.0008174009271897376 and parameters: {'loss': 'bpr', 'no_components': 50, 'learning_rate': 0.01, 'max_sampled': 50, 'user_alpha': 0.0, 'item_alpha': 0.0}. Best is trial 2 with value: 0.008520365692675114.\u001b[0m\n",
      "\u001b[32m[I 2022-08-04 17:45:43,128]\u001b[0m Trial 27 finished with value: 0.0019673039205372334 and parameters: {'loss': 'warp', 'no_components': 10, 'learning_rate': 0.0001, 'max_sampled': 50, 'user_alpha': 0.0001, 'item_alpha': 0.0}. Best is trial 2 with value: 0.008520365692675114.\u001b[0m\n",
      "\u001b[32m[I 2022-08-04 17:46:03,755]\u001b[0m Trial 28 finished with value: 0.00662233354523778 and parameters: {'loss': 'warp', 'no_components': 30, 'learning_rate': 0.001, 'max_sampled': 50, 'user_alpha': 0.0, 'item_alpha': 0.0}. Best is trial 2 with value: 0.008520365692675114.\u001b[0m\n"
     ]
    },
    {
     "name": "stderr",
     "output_type": "stream",
     "text": [
      "\u001b[32m[I 2022-08-04 17:46:31,418]\u001b[0m Trial 29 finished with value: 0.0075644226744771 and parameters: {'loss': 'warp', 'no_components': 50, 'learning_rate': 0.01, 'max_sampled': 20, 'user_alpha': 0.0, 'item_alpha': 0.0}. Best is trial 2 with value: 0.008520365692675114.\u001b[0m\n"
     ]
    }
   ],
   "source": [
    "study = optuna.create_study(direction=\"maximize\")\n",
    "study.optimize(objective, n_trials=30)\n",
    "best_params = study.best_params"
   ]
  },
  {
   "cell_type": "code",
   "execution_count": 14,
   "metadata": {},
   "outputs": [
    {
     "data": {
      "text/plain": [
       "{'loss': 'warp',\n",
       " 'no_components': 50,\n",
       " 'learning_rate': 0.01,\n",
       " 'max_sampled': 50,\n",
       " 'user_alpha': 0.0,\n",
       " 'item_alpha': 0.0}"
      ]
     },
     "execution_count": 14,
     "metadata": {},
     "output_type": "execute_result"
    }
   ],
   "source": [
    "best_params"
   ]
  },
  {
   "cell_type": "code",
   "execution_count": 16,
   "metadata": {},
   "outputs": [],
   "source": [
    "best_params = {'loss': 'warp',\n",
    " 'no_components': 50,\n",
    " 'learning_rate': 0.01,\n",
    " 'max_sampled': 50,\n",
    " 'user_alpha': 0.0,\n",
    " 'item_alpha': 0.0}"
   ]
  },
  {
   "cell_type": "code",
   "execution_count": 17,
   "metadata": {
    "tags": []
   },
   "outputs": [
    {
     "name": "stdout",
     "output_type": "stream",
     "text": [
      "0:\t0.0063591026701033115 +/- 0.0006482387116924927\n",
      "1:\t0.006719312630593777 +/- 0.0006764086716667313\n",
      "2:\t0.0068717096000909805 +/- 0.0006869591822618538\n",
      "3:\t0.007301191799342632 +/- 0.0007115357592913988\n",
      "4:\t0.007896924391388893 +/- 0.000748146428540327\n",
      "5:\t0.009129953570663929 +/- 0.0008141584842256645\n",
      "6:\t0.010820171795785427 +/- 0.000890166764644536\n",
      "7:\t0.012704350054264069 +/- 0.0009525994030340686\n",
      "8:\t0.014574674889445305 +/- 0.0010156114654531893\n",
      "9:\t0.016195621341466904 +/- 0.001071784485154639\n",
      "10:\t0.01781656965613365 +/- 0.0011232564525839928\n",
      "11:\t0.0193682461977005 +/- 0.001160187902045089\n",
      "12:\t0.02062898315489292 +/- 0.001188634338896098\n",
      "13:\t0.0220559723675251 +/- 0.0012195738804155027\n",
      "14:\t0.02351066656410694 +/- 0.001248011894905951\n",
      "15:\t0.024702133610844612 +/- 0.0012715841913810977\n",
      "16:\t0.026059851050376892 +/- 0.0013048595628767966\n",
      "17:\t0.027362151071429253 +/- 0.0013277689851988413\n",
      "18:\t0.028415074571967125 +/- 0.0013458658019425895\n",
      "19:\t0.02935716137290001 +/- 0.0013618571144886392\n",
      "20:\t0.03024383820593357 +/- 0.001375825513535958\n",
      "21:\t0.030853422358632088 +/- 0.0013883958007302152\n",
      "22:\t0.03160155192017555 +/- 0.0013969409730585926\n",
      "23:\t0.032432809472084045 +/- 0.0014089205777616958\n",
      "24:\t0.03325020894408226 +/- 0.0014240828893897085\n",
      "25:\t0.033887505531311035 +/- 0.0014341752837300522\n",
      "26:\t0.03449708968400955 +/- 0.0014474601824351408\n",
      "27:\t0.03512053191661835 +/- 0.001460058830639449\n",
      "28:\t0.03585480526089668 +/- 0.0014689676254936628\n",
      "29:\t0.036519814282655716 +/- 0.001479786577346041\n",
      "30:\t0.037032417953014374 +/- 0.001485701652733231\n",
      "31:\t0.03746189922094345 +/- 0.0014931055952056456\n",
      "32:\t0.037988364696502686 +/- 0.0015018048623553003\n",
      "33:\t0.038251593708992004 +/- 0.0015034033920127226\n",
      "34:\t0.038736492395401 +/- 0.001512220572210226\n",
      "35:\t0.039262957870960236 +/- 0.0015215451566602787\n",
      "36:\t0.039567749947309494 +/- 0.001524125664805104\n",
      "37:\t0.04005264863371849 +/- 0.0015301938896465697\n",
      "38:\t0.04055140167474747 +/- 0.0015371621038736548\n",
      "39:\t0.04092546924948692 +/- 0.0015417131006198446\n",
      "40:\t0.04134109616279602 +/- 0.0015491859689409288\n",
      "41:\t0.04161817952990532 +/- 0.0015533239262498298\n",
      "42:\t0.04196453467011452 +/- 0.0015590353180193804\n",
      "43:\t0.04213078320026398 +/- 0.0015642083662526895\n",
      "44:\t0.042477142065763474 +/- 0.001569350131432488\n",
      "45:\t0.04285120218992233 +/- 0.0015740331357890968\n",
      "46:\t0.04303131625056267 +/- 0.0015749314063256226\n",
      "47:\t0.04333610087633133 +/- 0.0015789062448555028\n",
      "48:\t0.043516211211681366 +/- 0.0015765010593182655\n",
      "49:\t0.043710168451070786 +/- 0.0015769194271877457\n",
      "50:\t0.043848711997270584 +/- 0.0015781449665917692\n",
      "51:\t0.044028814882040024 +/- 0.0015799141779642258\n",
      "52:\t0.04420892894268036 +/- 0.0015802710110361406\n",
      "53:\t0.0443197600543499 +/- 0.001581884322795771\n",
      "54:\t0.04455528035759926 +/- 0.001585119024905774\n",
      "55:\t0.04467996582388878 +/- 0.0015862744352667622\n",
      "56:\t0.044915489852428436 +/- 0.0015908630748081105\n",
      "57:\t0.04510945454239845 +/- 0.0015958147352781124\n",
      "58:\t0.045234136283397675 +/- 0.00160016858003322\n",
      "59:\t0.045331116765737534 +/- 0.001598937712197005\n",
      "60:\t0.04545580968260765 +/- 0.0016018934450990512\n",
      "61:\t0.04564976319670677 +/- 0.0016026401131454858\n",
      "62:\t0.04573288932442665 +/- 0.0016027594012726096\n",
      "63:\t0.045968420803546906 +/- 0.0016063009179458918\n",
      "64:\t0.04602383077144623 +/- 0.0016077509390415921\n",
      "65:\t0.046300917863845825 +/- 0.0016085615482743236\n",
      "66:\t0.046411748975515366 +/- 0.0016114433706653278\n",
      "67:\t0.04663341864943504 +/- 0.0016112403745873261\n",
      "68:\t0.04667498171329498 +/- 0.0016089962452101967\n",
      "69:\t0.04681352525949478 +/- 0.0016091452694266468\n",
      "70:\t0.04691050574183464 +/- 0.0016110781152328523\n",
      "71:\t0.04697977378964424 +/- 0.0016106901709923359\n",
      "72:\t0.047146026045084 +/- 0.0016140529273598418\n",
      "73:\t0.04715988039970398 +/- 0.00161132236368911\n",
      "74:\t0.04732612892985344 +/- 0.0016151306457417814\n",
      "75:\t0.04729842022061348 +/- 0.0016119067723810705\n",
      "76:\t0.04725686460733414 +/- 0.001610038211530981\n",
      "77:\t0.04743696749210358 +/- 0.001614312817342855\n",
      "78:\t0.04747852683067322 +/- 0.0016138908398902773\n",
      "79:\t0.047603216022253036 +/- 0.0016144487783061906\n",
      "80:\t0.0475616529583931 +/- 0.001615329000927229\n",
      "81:\t0.047603216022253036 +/- 0.0016135348662429097\n",
      "82:\t0.047533947974443436 +/- 0.0016125650915840735\n",
      "83:\t0.047686342149972916 +/- 0.0016126852391357444\n",
      "84:\t0.047935716807842255 +/- 0.0016165193039248257\n",
      "85:\t0.047949567437171936 +/- 0.0016183522845986697\n",
      "86:\t0.047880299389362335 +/- 0.0016155684366060236\n",
      "87:\t0.047880299389362335 +/- 0.0016187605112584953\n",
      "88:\t0.047977276146411896 +/- 0.0016156344404112334\n",
      "89:\t0.048032697290182114 +/- 0.001617495610210219\n",
      "90:\t0.04817124083638191 +/- 0.0016212253408592946\n",
      "91:\t0.04808811470866203 +/- 0.0016175310185015555\n",
      "92:\t0.04822666198015213 +/- 0.0016198928890416241\n",
      "93:\t0.04819894954562187 +/- 0.0016203317112153228\n",
      "94:\t0.04822665825486183 +/- 0.0016180709090019814\n",
      "95:\t0.04835134372115135 +/- 0.001619507694959658\n",
      "96:\t0.04836519807577133 +/- 0.001619059762885761\n",
      "97:\t0.04833749309182167 +/- 0.0016208657576288292\n",
      "98:\t0.04824051260948181 +/- 0.0016199009676323658\n",
      "99:\t0.04840676113963127 +/- 0.0016199925822890761\n"
     ]
    }
   ],
   "source": [
    "model, precisions_at = fit_model(\n",
    "    epochs=100,\n",
    "    at=10,\n",
    "    loss=best_params[\"loss\"],\n",
    "    no_components=best_params[\"no_components\"], \n",
    "    learning_rate=best_params[\"learning_rate\"], \n",
    "    max_sampled=best_params[\"max_sampled\"],\n",
    "    user_alpha=best_params[\"user_alpha\"],\n",
    "    item_alpha=best_params[\"item_alpha\"],\n",
    "    verbose=True,\n",
    ")"
   ]
  },
  {
   "cell_type": "code",
   "execution_count": 21,
   "metadata": {},
   "outputs": [
    {
     "data": {
      "image/png": "[encoded data removed]",
      "text/plain": [
       "<Figure size 432x288 with 1 Axes>"
      ]
     },
     "metadata": {
      "needs_background": "light"
     },
     "output_type": "display_data"
    }
   ],
   "source": [
    "figure, ax = pl.subplots()\n",
    "\n",
    "ax.plot(np.arange(len(precisions_at)), precisions_at)\n",
    "\n",
    "pass"
   ]
  },
  {
   "cell_type": "markdown",
   "metadata": {},
   "source": [
    "## Save track embeddings"
   ]
  },
  {
   "cell_type": "code",
   "execution_count": 22,
   "metadata": {},
   "outputs": [],
   "source": [
    "biases, embeddings = model.get_item_representations()"
   ]
  },
  {
   "cell_type": "code",
   "execution_count": 23,
   "metadata": {},
   "outputs": [],
   "source": [
    "model.item_biases *= 0.0"
   ]
  },
  {
   "cell_type": "code",
   "execution_count": 26,
   "metadata": {},
   "outputs": [],
   "source": [
    "track_meta = pd.read_json(DATA_PATH + \"tracks.json\", lines=True)\n",
    "track_meta[\"dataset_index\"] = track_meta[\"track\"].map(lambda t: dataset.mapping()[2].get(t))"
   ]
  },
  {
   "cell_type": "code",
   "execution_count": 27,
   "metadata": {},
   "outputs": [],
   "source": [
    "dataset_tracks = track_meta[pd.notnull(track_meta[\"dataset_index\"])].sort_values(\"dataset_index\")"
   ]
  },
  {
   "cell_type": "code",
   "execution_count": 28,
   "metadata": {},
   "outputs": [],
   "source": [
    "writer = tb.SummaryWriter(comment='msd_ligtfm_embeddings', log_dir=DATA_DIR + \"tb\")\n",
    "writer.add_embedding(embeddings, metadata=list(dataset_tracks[[\"artist\", \"title\"]].itertuples(index=False, name=None)), tag=\"lightfm\", metadata_header=[\"artist\", \"title\"])\n",
    "writer.close()"
   ]
  },
  {
   "cell_type": "markdown",
   "metadata": {},
   "source": [
    "## Compute top recommendations"
   ]
  },
  {
   "cell_type": "code",
   "execution_count": 29,
   "metadata": {},
   "outputs": [],
   "source": [
    "tracks = dataset_tracks[\"track\"].values\n",
    "users = [user for user, index in sorted(dataset.mapping()[0].items(), key=lambda kv: kv[1])]"
   ]
  },
  {
   "cell_type": "code",
   "execution_count": 30,
   "metadata": {},
   "outputs": [
    {
     "name": "stderr",
     "output_type": "stream",
     "text": [
      "100%|█████████████████████████████████████████████████████████████████████████████| 8874/8874 [00:14<00:00, 604.95it/s]\n"
     ]
    }
   ],
   "source": [
    "with open(DATA_DIR + \"recommendations.json\", \"w\") as rf:\n",
    "    for user_index in tqdm.tqdm(range(dataset.user_features_shape()[0])):\n",
    "        predictions = model.predict(user_index, np.arange(dataset.item_features_shape()[0]), num_threads=30)\n",
    "        top = tracks[np.argsort(predictions)[-100:]]\n",
    "        recommendation = {\n",
    "            \"user\": int(users[user_index]),\n",
    "            \"tracks\": [int(x) for x in top]\n",
    "        }\n",
    "        rf.write(json.dumps(recommendation) + \"\\n\")"
   ]
  },
  {
   "cell_type": "code",
   "execution_count": null,
   "metadata": {},
   "outputs": [],
   "source": []
  }
 ],
 "metadata": {
  "kernelspec": {
   "display_name": "Python 3 (ipykernel)",
   "language": "python",
   "name": "python3"
  },
  "language_info": {
   "codemirror_mode": {
    "name": "ipython",
    "version": 3
   },
   "file_extension": ".py",
   "mimetype": "text/x-python",
   "name": "python",
   "nbconvert_exporter": "python",
   "pygments_lexer": "ipython3",
   "version": "3.7.13"
  }
 },
 "nbformat": 4,
 "nbformat_minor": 4
}
